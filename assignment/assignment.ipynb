{
  "cells": [
    {
      "cell_type": "markdown",
      "id": "e0c7b14a-e5aa-4abc-b48b-b8a9d20dacac",
      "metadata": {
        "id": "e0c7b14a-e5aa-4abc-b48b-b8a9d20dacac"
      },
      "source": [
        "# Assignment: Linear Models\n",
        "## Do three questions.\n",
        "### `! git clone https://github.com/ds4e/linearModels`"
      ]
    },
    {
      "cell_type": "markdown",
      "id": "bf4826b0",
      "metadata": {
        "id": "bf4826b0"
      },
      "source": [
        "**Q1.** Please answer the following questions in your own words."
      ]
    },
    {
      "cell_type": "markdown",
      "source": [
        "1. What makes a model \"linear\"? \"Linear\" in what?"
      ],
      "metadata": {
        "id": "XM51tJNk8Xye"
      },
      "id": "XM51tJNk8Xye"
    },
    {
      "cell_type": "markdown",
      "source": [
        "A model is linear when the relationship between the independent and dependent variables can be represented by a straight line. Linear as in pertaining to a uniform increase or decrease in the dependent variable as the independent variable increases."
      ],
      "metadata": {
        "id": "oExztWua8yJV"
      },
      "id": "oExztWua8yJV"
    },
    {
      "cell_type": "markdown",
      "source": [
        "2. How do you interpret the coefficient for a dummy/one-hot-encoded variable? (This is a trick question, and the trick involves how you handle the intercept of the model.)"
      ],
      "metadata": {
        "id": "jBev9Pde8iK9"
      },
      "id": "jBev9Pde8iK9"
    },
    {
      "cell_type": "markdown",
      "source": [
        "The coefficient for a dummy (one-hot-encoded) variable represents the difference in the dependent variable between the category it represents and the baseline (omitted) category, assuming the model includes an intercept. If the intercept is removed, the interpretation changes because each dummy coefficient then represents the absolute predicted value for that category rather than a difference from a baseline."
      ],
      "metadata": {
        "id": "wAkZzXJZ9wD2"
      },
      "id": "wAkZzXJZ9wD2"
    },
    {
      "cell_type": "markdown",
      "source": [
        "3. Can linear regression be used for classification? Explain why, or why not."
      ],
      "metadata": {
        "id": "lMuJuRc68ka8"
      },
      "id": "lMuJuRc68ka8"
    },
    {
      "cell_type": "markdown",
      "source": [
        "Linear regression is not ideal for classification because it predicts continuous values rather than discrete class labels. While you could set a threshold (i.e. predict class 1 if the output is above 0.5), this approach doesn't handle probabilities well and is sensitive to outliers. Logistic regression or other classification models are better because they map predictions to a probability range (0 to 1) and are specifically designed for categorical outcomes."
      ],
      "metadata": {
        "id": "ohlYFTip9wd_"
      },
      "id": "ohlYFTip9wd_"
    },
    {
      "cell_type": "markdown",
      "source": [
        "4. What are signs that your linear model is over-fitting?"
      ],
      "metadata": {
        "id": "2XQmBOhn8m3h"
      },
      "id": "2XQmBOhn8m3h"
    },
    {
      "cell_type": "markdown",
      "source": [
        "Signs of overfitting in a linear model include a very high R^2 on the training data but poor performance on test data, meaning the model captures noise rather than general patterns. Large coefficients can also be a red flag, as they suggest the model is too sensitive to small variations in the data. Additionally, if adding more features significantly improves training accuracy but not test accuracy, the model is likely overfitting."
      ],
      "metadata": {
        "id": "5YKvvz3k9w7s"
      },
      "id": "5YKvvz3k9w7s"
    },
    {
      "cell_type": "markdown",
      "source": [
        "5. Clearly explain multi-colinearity using the two-stage least squares technique."
      ],
      "metadata": {
        "id": "8DzBshuI8pT_"
      },
      "id": "8DzBshuI8pT_"
    },
    {
      "cell_type": "markdown",
      "source": [
        "Multicollinearity happens when two or more independent variables in a regression model are highly correlated, making it hard to tell which variable is actually affecting the dependent variable. This can make coefficient estimates unstable and unreliable. During the first stage of the two-stage least squares technique, you find a new variable (called an instrument) that is related to the problematic independent variable but not to the error term. Then, use this instrument to predict the problematic variable. In the second stage, predicted values are used from the first stage instead of the original problematic variable in the main regression. Since the new values are not affected by the error term, the estimates become more reliable."
      ],
      "metadata": {
        "id": "Vr9HyL8P9xXF"
      },
      "id": "Vr9HyL8P9xXF"
    },
    {
      "cell_type": "markdown",
      "source": [
        "6. How can you incorporate nonlinear relationships between your target/response/dependent/outcome variable  𝑦  and your features/control/response/independent variables  𝑥  into your analysis?"
      ],
      "metadata": {
        "id": "ez-ANZZm8sQU"
      },
      "id": "ez-ANZZm8sQU"
    },
    {
      "cell_type": "markdown",
      "source": [
        "To handle nonlinear relationships between the dependent variable\n",
        "y and independent variables\n",
        "x, you can modify your model in several ways. One option is to add polynomial terms, like\n",
        "x^\n",
        "2\n",
        "or x^\n",
        "3\n",
        " , to capture curves in the data. Another is to use log transformations on\n",
        "x or\n",
        "y\n",
        "y to model exponential relationships. Interaction terms (\n",
        "x_1\n",
        "×\n",
        "x_2\n",
        "​\n",
        " ) can help if variables influence each other. More flexible approaches include using splines, which allow different patterns in different ranges of\n",
        "x, or tree-based models like decision trees and random forests, which automatically detect complex relationships. Choosing the right method depends on how much complexity your model needs while keeping it understandable."
      ],
      "metadata": {
        "id": "WLmYfm-U9x6Z"
      },
      "id": "WLmYfm-U9x6Z"
    },
    {
      "cell_type": "markdown",
      "source": [
        "7. What is the interpretation of the intercept? A slope coefficient for a variable? The coefficient for a dummy/one-hot-encoded variable?"
      ],
      "metadata": {
        "id": "EvJLJxLi8uHA"
      },
      "id": "EvJLJxLi8uHA"
    },
    {
      "cell_type": "markdown",
      "source": [
        "The intercept in a regression model represents the predicted value of the dependent variable (y) when all independent variables (x) are zero. However, its interpretation only makes sense if zero is a meaningful value for all predictors. A slope coefficient for a variable shows how much the dependent variable changes for a one-unit increase in that independent variable, assuming all other variables are held constant. The coefficient for a dummy (one-hot-encoded) variable represents the difference in the dependent variable between the category it represents and the baseline (omitted) category. If the model includes an intercept, the coefficient tells how much the predicted value changes when that category is present, compared to the baseline."
      ],
      "metadata": {
        "id": "SHHB0dFl9ybt"
      },
      "id": "SHHB0dFl9ybt"
    },
    {
      "cell_type": "markdown",
      "id": "25bf83c6-ff44-42d6-9b33-8be1b945860d",
      "metadata": {
        "id": "25bf83c6-ff44-42d6-9b33-8be1b945860d"
      },
      "source": [
        "**Q2.** Load `./data/Q1_clean.csv`. The data include\n",
        "\n",
        "- `Price` per night\n",
        "- `Review Scores Rating`: The average rating for the property\n",
        "- `Neighbourhood `: The bourough of NYC. Note the space, or rename the variable.\n",
        "- `Property Type`: The kind of dwelling\n",
        "- `Room Type`: The kind of space being rented\n",
        "\n",
        "1. Compute the average prices and scores by `Neighbourhood `; which bourough is the most expensive on average? Create a kernel density plot of price and log price, grouping by `Neighbourhood `.\n",
        "2. Regress price on `Neighbourhood ` by creating the appropriate dummy/one-hot-encoded variables, without an intercept in the linear model and using all the data. Compare the coefficients in the regression to the table from part 1. What pattern do you see? What are the coefficients in a regression of a continuous variable on one categorical variable?\n",
        "3. Repeat part 2, but leave an intercept in the linear model. How do you have to handle the creation of the dummies differently? What is the intercept? Interpret the coefficients. How can I get the coefficients in part 2 from these new coefficients?\n",
        "4. Split the sample 80/20 into a training and a test set. Run a regression of `Price` on `Review Scores Rating` and `Neighbourhood `. What is the $R^2$ and RMSE on the test set? What is the coefficient on `Review Scores Rating`? What is the most expensive kind of property you can rent?\n",
        "5. Split the sample 80/20 into a training and a test set. Run a regression of `Price` on `Review Scores Rating` and `Neighbourhood ` and `Property Type`. What is the $R^2$ and RMSE on the test set? What is the coefficient on `Review Scores Rating`? What is the most expensive kind of property you can rent?\n",
        "6. What does the coefficient on `Review Scores Rating` mean if it changes from part 4 to 5? Hint: Think about how multilple linear regression works.\n",
        "7. (Optional) We've included `Neighborhood ` and `Property Type` separately in the model. How do you interact them, so you can have \"A bedroom in Queens\" or \"A townhouse in Manhattan\". Split the sample 80/20 into a training and a test set and run a regression including that kind of \"property type X neighborhood\" dummy, plus `Review Scores Rating`. How does the slope coefficient for `Review Scores Rating`, the $R^2$, and the RMSE change? Do they increase significantly compares to part 5? Are the coefficients in this regression just the sum of the coefficients for `Neighbourhood ` and `Property Type` from 5? What is the most expensive kind of property you can rent?"
      ]
    },
    {
      "cell_type": "markdown",
      "id": "95f22300-0180-4ed2-be8f-ed56cf4cd36b",
      "metadata": {
        "id": "95f22300-0180-4ed2-be8f-ed56cf4cd36b"
      },
      "source": [
        "**Q3.** This question is a case study for linear models. The data are about car prices. In particular, they include:\n",
        "\n",
        "  - `Price`, `Color`, `Seating_Capacity`\n",
        "  - `Body_Type`: crossover, hatchback, muv, sedan, suv\n",
        "  - `Make`, `Make_Year`: The brand of car and year produced\n",
        "  - `Mileage_Run`: The number of miles on the odometer\n",
        "  - `Fuel_Type`: Diesel or gasoline/petrol\n",
        "  - `Transmission`, `Transmission_Type`:  speeds and automatic/manual\n",
        "\n",
        "  1. Load `cars_hw.csv`. These data were really dirty, and I've already cleaned them a significant amount in terms of missing values and other issues, but some issues remain (e.g. outliers, badly scaled variables that require a log or arcsinh transformation). Clean the data however you think is most appropriate.\n",
        "  2. Summarize the `Price` variable and create a kernel density plot. Use `.groupby()` and `.describe()` to summarize prices by brand (`Make`). Make a grouped kernel density plot by `Make`. Which car brands are the most expensive? What do prices look like in general?\n",
        "  3. Split the data into an 80% training set and a 20% testing set.\n",
        "  4. Make a model where you regress price on the numeric variables alone; what is the $R^2$ and `RMSE` on the training set and test set? Make a second model where, for the categorical variables, you regress price on a model comprised of one-hot encoded regressors/features alone (you can use `pd.get_dummies()`; be careful of the dummy variable trap); what is the $R^2$ and `RMSE` on the test set? Which model performs better on the test set? Make a third model that combines all the regressors from the previous two; what is the $R^2$ and `RMSE` on the test set? Does the joint model perform better or worse, and by home much?\n",
        "  5. Use the `PolynomialFeatures` function from `sklearn` to expand the set of numerical variables you're using in the regression. As you increase the degree of the expansion, how do the $R^2$ and `RMSE` change? At what point does $R^2$ go negative on the test set? For your best model with expanded features, what is the $R^2$ and `RMSE`? How does it compare to your best model from part 4?\n",
        "  6. For your best model so far, determine the predicted values for the test data and plot them against the true values. Do the predicted values and true values roughly line up along the diagonal, or not? Compute the residuals/errors for the test data and create a kernel density plot. Do the residuals look roughly bell-shaped around zero? Evaluate the strengths and weaknesses of your model."
      ]
    },
    {
      "cell_type": "markdown",
      "id": "aedcd486",
      "metadata": {
        "id": "aedcd486"
      },
      "source": [
        "**Q4.** This question refers to the `heart_hw.csv` data. It contains three variables:\n",
        "\n",
        "  - `y`: Whether the individual survived for three years, coded 0 for death and 1 for survival\n",
        "  - `age`: Patient's age\n",
        "  - `transplant`: `control` for not receiving a transplant and `treatment` for receiving a transplant\n",
        "\n",
        "Since a heart transplant is a dangerous operation and even people who successfully get heart transplants might suffer later complications, we want to look at whether a group of transplant recipients tends to survive longer than a comparison group who does not get the procedure.\n",
        "\n",
        "1. Compute (a) the proportion of people who survive in the control group who do not receive a transplant, and (b) the difference between the proportion of people who survive in the treatment group and the proportion of people who survive in the control group. In a randomized controlled trial, this is called the **average treatment effect**.\n",
        "2. Regress `y` on `transplant` using a linear model with a constant. How does the constant/intercept of the regression and the coefficient on transplant compare to your answers from part 1? Explain the relationship clearly.\n",
        "3. We'd like to include `age` in the regression, since it's reasonable to expect that older patients are less likely to survive an extensive surgery like a heart transplant. Regress `y` on a constant, transplant, and age. How does the intercept change?\n",
        "4. Build a more flexible model that allows for non-linear age effects and interactions between age and treatment. Use a train-test split to validate your model. Estimate your best model, predict the survival probability by age, and plot your results conditional on receiving a transplant and not. Describe what you see.\n",
        "5. Imagine someone suggests using these kinds of models to select who receives organ transplants; perhaps the CDC or NIH starts using a scoring algorithm to decide who is contacted about a potential organ. What are your concerns about how it is built and how it is deployed?"
      ]
    },
    {
      "cell_type": "markdown",
      "id": "7bd15c6b-4c7c-4230-a199-e03e1054ec6a",
      "metadata": {
        "id": "7bd15c6b-4c7c-4230-a199-e03e1054ec6a"
      },
      "source": [
        "**Q5.** This is a question about linear regression. The outcome is whether a defendant is held pre-trial in the Virginia justice system. We would like to understand how that outcome is predicted by characteristics of the defendant, particularly race. Let's be very careful/clear: We aren't saying anyone *should* be held without bond or asserting that people with different demographic variables *should* be more likely to be held, but instead trying to predict whether people with different characteristics *are empirically more likely* to be held without bond, given the available information. This is the first step we would take in investigating whether a system is fair, or how large the disparities are: Does it treat people with similar observable characteristics similarly, or not? We are going to look at a common question: Are Black defendants treated differently from white or Asian ones? (There are Native American defendants, but there are 11 in total, which is such a small number of observations that is difficult to clearly say anything about how this group is treated relative to the others.)\n",
        "\n",
        "The variables in the data are:\n",
        "\n",
        "  - `held_wo_bail`: Whether a defendant is held without bail before trial (Boolean logical)\n",
        "  - `race`, `sex`: Categorical demographic variables\n",
        "  - `is_poor`: Whether the defendant is classified as indigent\n",
        "  - `prior_F`, `prior_M`: The number of prior felony and misdemeanor arrests\n",
        "  - `case_type`: A categorical variable indicating a misdemeanor `M` or felony `F` or infraction `I` or special case `S`\n",
        "  - `age`: Defendant's age\n",
        "  - `bond`, `bond_NA`, `bond_type`: The amount of any bond, whether it is missing, and the type\n",
        "  - `sentence`, `sentence_NA`, `sentence_type`: The length of any sentence, whether it is missing, and the type\n",
        "\n",
        "1. Load the `pretrial_data.csv` data. Notice that there are `nan`s, but the data are relatively clean. Because there are `.nan`s among variables you won't use, you'll want to narrow down your analysis to the relevant variables before dropping or imputing missing values.\n",
        "2. Create a dummy variable indicating that the defendant is Black.\n",
        "3. Regress `held` on `Black`. What is the slope coefficient Interpret the coefficient on the Black dummy variable: How much more likely is a black person to be held without bail? What is the $R^2$ of the model?\n",
        "4. Before doing this question, please think for a few minutes about how to make the process of running the following regressions as efficient as possible, before jumping into writing code. Repeat part 2, for the following specifications, keeping track of the coefficient on the Black dummy variable each time:\n",
        "      - `held` on `Black` and `sex`\n",
        "      - `held` on `Black` and `sex` and `is_poor`\n",
        "      - `held` on `Black` and `sex` and `is_poor` and `prior_F`\n",
        "      - `held` on `Black` and `sex` and `is_poor` and `prior_F` and `case_type`\n",
        "What happens to the coefficient on the Black dummy variable as you include more regressors/features/controls in the regression? Explain your findings.\n",
        "5. Suppose we don't want to see just `Black` and `sex`, but `Black` interacted with `sex`: Are Black men and Black women treated systemically differently from the rest of the population? Implement this in a regression, and explain your findings.\n",
        "6. Imagine someone argued we should use these kinds of models to help a judge or magistrate make bail decisions (you could obviously go back and make this kind of model for the bond and sentence variables, then deploy it on new cases to predict what their bond and sentence values would be). What concerns would you have? Do you think society should be using data-driven and automated tools like that? Explain your concerns clearly."
      ]
    },
    {
      "cell_type": "markdown",
      "id": "ca1cfba3",
      "metadata": {
        "vscode": {
          "languageId": "plaintext"
        },
        "id": "ca1cfba3"
      },
      "source": [
        "**Q6.** Let's explore multiple linear regression in a two-variable case, to build more intuition about what is happening.\n",
        "\n",
        "Suppose the model is\n",
        "$$\n",
        "\\hat{y}_i = b_0 + b_1 z_{i1} + b_2 z_{i2}\n",
        "$$\n",
        "Assume that $z_{ij}$ is centered or de-meaned, so that $z_{ij} = x_{ij} - m_j$ where $m_j$ is the mean of variable $j$ and $x_{ij}$ is the original value of variable $j$ for observation $i$. Notice that this implies\n",
        "$$\n",
        "\\dfrac{1}{N} \\sum_{i=1}^N z_{ij} = 0\n",
        "$$\n",
        "which will simplify your calculations below substantially!\n",
        "\n",
        "1. Write down the SSE for this model.\n",
        "2. Take partial derivatives with respect to $b_0$, $b_1$, and $b_2$.\n",
        "3. Verify that the average error is zero and $e \\cdot z =0$ at the optimum, just as in the single linear regression case.\n",
        "4. Show that the optimal intercept is $b_0^* = \\bar{y}$. Eliminate $b_0^*$ from the remaining equations, and focus on $b_1$ and $b_2$.\n",
        "5. Write your results as a matrix equation in the form \"$Ab=C$\". These are called the **normal equations**.\n",
        "6. Divide both sides by $N$ and substitute $z_{ij} = x_{ij} - m_j$ back into your normal equations for $x_{ij}$. What is the matrix $A$? What is the vector $C$? Explain the intuition of your discovery."
      ]
    },
    {
      "cell_type": "markdown",
      "id": "547d5828",
      "metadata": {
        "id": "547d5828"
      },
      "source": [
        "**Q7.** In class, we showed that for the single linear regression model,\n",
        "\\begin{alignat*}{3}\n",
        "a^* &=& \\bar{y} \\\\\n",
        "b^* &=& \\dfrac{\\sum_{i=1}^N(y_i - \\bar{y})(x_i-\\bar{x})}{\\sum_{i=1}^N (x_i-\\bar{x})^2},\n",
        "\\end{alignat*}"
      ]
    },
    {
      "cell_type": "markdown",
      "source": [
        "1. When will  𝑏∗  be large or small, depending on the relationship between  𝑋  and  𝑌  and the variance of  𝑋 ?"
      ],
      "metadata": {
        "id": "Q8gK00j3C-hY"
      },
      "id": "Q8gK00j3C-hY"
    },
    {
      "cell_type": "markdown",
      "source": [
        "The slope coefficient b* in a simple linear regression model depends on both the relationship between X and Y and the variance of X. If X and Y are strongly correlated, the numerator of the formula, which captures how changes in X align with changes in Y, will be large, leading to a higher b*. Conversely, if the correlation is weak, the numerator will be small, resulting in a lower b*. The variance of X, which appears in the denominator, also plays a key role. When the variance of X is large, the denominator increases, making b* smaller. On the other hand, if the variance of X is small, even slight changes in X can lead to significant changes in Y, making b* larger. In summary, b* is large when X and Y are strongly correlated and the variance of X is low, while it is small when the correlation is weak or the variance of X is high."
      ],
      "metadata": {
        "id": "dEFrWJDsC_h_"
      },
      "id": "dEFrWJDsC_h_"
    },
    {
      "cell_type": "markdown",
      "source": [
        "2. Suppose you have measurement error in  𝑋  which artificially inflates its variance (e.g. bad data cleaning). We'll model this as saying the \"real\" value of  𝑋  for observation  𝑖  is  𝑧𝑖 , but we observe  𝑥𝑖=𝑧𝑖+𝑛𝑖 , where  𝑛𝑖  is the added noise. Does this affect the intercept of the regression? What happens to the  𝑏∗  coefficient relative to a noise-less model? How will affect your ability to predict? (This phenomenon is called attenuation.)"
      ],
      "metadata": {
        "id": "Qo6qVAqrC-rH"
      },
      "id": "Qo6qVAqrC-rH"
    },
    {
      "cell_type": "markdown",
      "source": [
        "When there is measurement error in X, meaning we observe  x_i = z_i + n_i instead of the true value z_i, it introduces attenuation bias, which distorts the regression results. The intercept may shift, but the main effect is on the slope coefficient. The estimated slope b* will be biased toward zero because the added noise inflates the variance of X, making the relationship between X and Y appear weaker than it actually is. This weaker slope means the model underestimates the effect of X on Y, reducing its predictive accuracy. As a result, predictions will be less responsive to changes in X and will have higher errors, especially when the measurement error is large. This phenomenon, known as attenuation bias, leads to a model that still functions but is less reliable in capturing the true relationship between X and Y."
      ],
      "metadata": {
        "id": "FSi7lWceC_wX"
      },
      "id": "FSi7lWceC_wX"
    },
    {
      "cell_type": "markdown",
      "source": [
        "3. Suppose the noise $n_i$ is independent of $z_i$ and $y_i$, so that (approximately)\n",
        "$$\n",
        "\\dfrac{1}{N} \\sum_{i=1}^N (y_i - \\bar{y})(n_i - \\bar{n}) =0, \\quad \\dfrac{1}{N} \\sum_{i=1}^N (z_i - \\bar{z})(n_i - \\bar{n}) =0.\n",
        "$$\n",
        "and that the mean of the bias is zero, so that\n",
        "$$\n",
        "\\dfrac{1}{N} \\sum_{i=1}^N n_i = 0.\n",
        "$$\n",
        "In this case, the noise $n_i$ is zero on average and independent of the values of $x_i$ and $y_i$: It's just measurement error or lazy data cleaning.\n",
        "Explain the intuition of your result."
      ],
      "metadata": {
        "id": "4ZB0paOQC-4x"
      },
      "id": "4ZB0paOQC-4x"
    },
    {
      "cell_type": "markdown",
      "source": [
        "The intuition behind this result is that if the noise n_i is independent of both the true values z_i and the dependent variable y_i, and its mean is zero, then the added noise does not systematically distort the relationship between X and Y. Since the noise is random and averages out to zero, it does not introduce bias in the expected value of the regression coefficients. However, while the mean of the estimates remains correct, the presence of measurement error still inflates the variance of X, leading to attenuation bias, where the estimated slope b* is biased toward zero. This means that although the regression does not systematically over- or underestimate the true relationship, it underestimates the strength of the relationship between X and Y, making predictions less sensitive to changes in X. Essentially, the model still works, but it becomes weaker in detecting real effects."
      ],
      "metadata": {
        "id": "AHT17lD0C_6G"
      },
      "id": "AHT17lD0C_6G"
    },
    {
      "cell_type": "markdown",
      "source": [
        "4. How does attenuation factor into the cost-benefit analysis of gathering higher quality data or cleaning it more carefully?"
      ],
      "metadata": {
        "id": "J3qGWci4C_Dg"
      },
      "id": "J3qGWci4C_Dg"
    },
    {
      "cell_type": "markdown",
      "source": [
        "Attenuation bias weakens the estimated relationship between X and Y, meaning that poor data quality can lead to underestimating the true effects of variables.\n",
        "\n",
        "On the cost side, improving data quality (whether through better measurement tools, more careful data collection, or extensive cleaning) requires additional time, money, and resources. In some cases, perfect data collection may be infeasible or too expensive relative to the expected gains.\n",
        "\n",
        "On the benefit side, reducing measurement error minimizes attenuation bias, leading to more accurate estimates of relationships between variables. This is particularly important in fields where decision-making relies on precise estimates, such as finance, medicine, and policy. Higher-quality data also improves predictive power, reduces uncertainty, and increases confidence in the model’s insights.\n",
        "\n",
        "Ultimately, the decision to invest in better data depends on how much accuracy is required for the model’s purpose. If small biases have significant consequences, such as in medical trials or financial forecasting, then investing in higher-quality data is crucial. However, if the model is used for exploratory analysis or rough estimates, the cost of perfect data cleaning may not be justified."
      ],
      "metadata": {
        "id": "WaGU2XYHDvHu"
      },
      "id": "WaGU2XYHDvHu"
    },
    {
      "cell_type": "markdown",
      "id": "b67478ac-ad78-4a44-9720-583c71b8da14",
      "metadata": {
        "id": "b67478ac-ad78-4a44-9720-583c71b8da14"
      },
      "source": [
        "**Q8.**\n",
        "1. Find a dataset on a topic you're interested in. Some easy options are data.gov, kaggle.com, and data.world.\n",
        "2. Clean the data and do some exploratory data analysis on key variables that interest you. Pick a particular target/outcome variable and features/predictors.\n",
        "3. Split the sample into an ~80% training set and a ~20% test set.\n",
        "4. Run a few regressions of your target/outcome variable on a variety of features/predictors. Compute the SSE on the test set.\n",
        "5. Which model performed the best, and why?\n",
        "6. What did you learn?"
      ]
    },
    {
      "cell_type": "markdown",
      "id": "fcf48562",
      "metadata": {
        "id": "fcf48562"
      },
      "source": [
        "**Q9.** There is a folder called `heart_failure` which contains reasonably detailed health data on patients and whether they die of congestive heart failure.\n",
        "\n",
        "1. Load the data and perform an 80/20-train/test split.\n",
        "2. Using dummy/one-hot-encoded variables and transformations of the numeric features, build the best model you can. **But**, do not delete code chunks or revise your work substantially as you experiment. Just keep moving forward with your ideas and experiments.\n",
        "3. When you're done, scroll through your notebook. What worked and what didn't? Does your code have intention, or are you randomly experimenting? If you had to do this again, what might you do differently to get to a good model faster?\n"
      ]
    },
    {
      "cell_type": "markdown",
      "id": "0125d03b",
      "metadata": {
        "vscode": {
          "languageId": "plaintext"
        },
        "id": "0125d03b"
      },
      "source": [
        "**Q10.** Let's look at a cousin of Linear Regression, called **kernel regression** or **local constant least squares** or **Nadaraya-Watson Estimator**.\n",
        "\n",
        "We derived the OLS estimator for single linear regression by minimizing\n",
        "$$\n",
        "SSE(b_0, b_1) = \\frac{1}{N}\\sum_{i=1}^N (y_i - b_0 - b_1 x_i)^2\n",
        "$$\n",
        "with solution\n",
        "$$\n",
        "\\hat{b}_0 = \\bar{y} - \\hat{b}_1 \\bar{x}, \\quad \\hat{b}_1 = \\dfrac{\\frac{1}{N} \\sum_{i=1}^N (x_i-\\bar{x})(y_i - \\bar{y})}{s_x^2}.\n",
        "$$\n",
        "\n",
        "When you step back and think about it, this is a bit weird: The algorithm is computing sample means, variances, and covariances, and using those to create a predictive model. The data themselves arguably vanish from the solution. This is elegant, this is strange.\n",
        "\n",
        "Instead, let $k(z)$ be a kernel function, such as the Gaussian\n",
        "$$\n",
        "k(z) = \\frac{1}{\\sqrt{2\\pi}} e^{-z^2/2}\n",
        "$$\n",
        "or uniform\n",
        "$$\n",
        "k(z) = \\begin{cases}\n",
        "1/2, & |z| \\le \\frac{1}{2}\\\\\n",
        "0, & \\text{otherwise.}\n",
        "\\end{cases}\n",
        "$$\n",
        "We'll instead minimize, or each predictor value $x$,\n",
        "$$\n",
        "SSE(\\hat{y}(x)) = \\dfrac{1}{N} \\sum_{i=1}^N \\left\\lbrace y_i - \\hat{y}(x)\\right\\rbrace^2 \\dfrac{1}{h} k \\left( \\dfrac{x-x_i}{h} \\right).\n",
        "$$\n",
        "\n",
        "1. Show that the optimal predictor is\n",
        "$$\n",
        "\\hat{y}(x) = \\dfrac{ \\frac{1}{Nh} \\sum_{i=1}^N  y_i k \\left( \\dfrac{x-x_i}{h} \\right) }{\\frac{1}{Nh} \\sum_{i=1}^N k \\left(  \\dfrac{x-x_i}{h} \\right)}\n",
        "$$\n",
        "This has many names, but let's call it the local constant least squares (LCLS) estimator, as opposed to ordinary least squares (OLS).\n",
        "\n",
        "2. Compare and contrast LCLS with both OLS and $k$-Nearest Neighbor as a regression algorithm.\n",
        "\n",
        "3. Write a function or class that implements the LCLS estimator for a single predictor variable $x$. For a default bandwidth $h$, you can use the maximum of the Silverman plug-ins for estimating kernel densities for $X$ and $Y$:\n",
        "$$\n",
        "h_y = 1.06 \\times s_y^{-1/5}, \\quad h_x = 1.06 \\times s_x^{-1/5},\n",
        "$$\n",
        "$$\n",
        "h = \\max \\{ h_y, h_x \\}.\n",
        "$$\n",
        "For the kernel, you can hard-code the uniform, Gaussian, or Epanechnikov, or make it a parameter the user can adjust with a default choice.\n",
        "\n",
        "4. For one of the datasets available for the homework, use your LCLS estimator from part 3 to predict values $\\hat{y}(x_i)$ for each datapoint $x_i$. Plot your estimator $\\hat{y}$ as a line over a scatterplot of the data $\\{(x_i,y_i)\\}_{i=1}^N$. Tune the bandwidth until you\n",
        "\n",
        "5. Conceptually, how would you extend this analysis to a vector of predictors, $x = (x_1, ..., x_L)$ instead of just one explanatory variable $x$?\n"
      ]
    }
  ],
  "metadata": {
    "colab": {
      "provenance": []
    },
    "kernelspec": {
      "display_name": "Python 3 (ipykernel)",
      "language": "python",
      "name": "python3"
    },
    "language_info": {
      "codemirror_mode": {
        "name": "ipython",
        "version": 3
      },
      "file_extension": ".py",
      "mimetype": "text/x-python",
      "name": "python",
      "nbconvert_exporter": "python",
      "pygments_lexer": "ipython3",
      "version": "3.12.2"
    }
  },
  "nbformat": 4,
  "nbformat_minor": 5
}